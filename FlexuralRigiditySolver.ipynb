{
 "cells": [
  {
   "cell_type": "code",
   "execution_count": 3,
   "metadata": {},
   "outputs": [],
   "source": [
    "from sympy import *\n",
    "from math import pi\n",
    "import time"
   ]
  },
  {
   "cell_type": "code",
   "execution_count": 4,
   "metadata": {},
   "outputs": [],
   "source": [
    "start_time = time.time()\n",
    "\n",
    "P, L, EIo, x, gamma, a0, a1 = symbols('P, L, EIo, x, gamma, a0, a1')\n",
    "gamma = P*L**2/EIo\n",
    "\n",
    "b = 0\n",
    "Max = 30"
   ]
  },
  {
   "cell_type": "code",
   "execution_count": 5,
   "metadata": {},
   "outputs": [],
   "source": [
    "#power serie terms of P/EI(x)\n",
    "d = []\n",
    "for n in range(0,Max):\n",
    "    d.append(b**n*(P*x**n)/EIo)"
   ]
  },
  {
   "cell_type": "code",
   "execution_count": 6,
   "metadata": {},
   "outputs": [],
   "source": [
    "def summa(n):\n",
    "    result = 0\n",
    "    for i in range(0,n+1):\n",
    "        result += a[i] * d[n-i]\n",
    "    return result"
   ]
  },
  {
   "cell_type": "code",
   "execution_count": 7,
   "metadata": {},
   "outputs": [],
   "source": [
    "a = []\n",
    "a.append(a0)\n",
    "a.append(a1)\n",
    "for n in range(0,Max):\n",
    "    a.append(-summa(n)/((n+1)*(n+2)))\n",
    "    "
   ]
  },
  {
   "cell_type": "code",
   "execution_count": 8,
   "metadata": {},
   "outputs": [],
   "source": [
    "def w(x):\n",
    "    result = 0\n",
    "    for k in range(0,Max):\n",
    "        result += a[k] * x**k\n",
    "    return result"
   ]
  },
  {
   "cell_type": "code",
   "execution_count": 9,
   "metadata": {},
   "outputs": [
    {
     "name": "stdout",
     "output_type": "stream",
     "text": [
      "{9.86960440108936, 39.4784175961961, 88.8298090988793, 147.121799409473}\n",
      "Time Elapsed: 00:00:57\n"
     ]
    }
   ],
   "source": [
    "roots = solveset(w(x).subs({(x,L),(a0,0)}),gamma,domain=S.Reals)\n",
    "\n",
    "elapsed_time = time.time() - start_time\n",
    "print(roots.evalf())\n",
    "print('Time Elapsed: '+ time.strftime(\"%H:%M:%S\", time.gmtime(elapsed_time)))\n"
   ]
  }
 ],
 "metadata": {
  "kernelspec": {
   "display_name": "Python 3",
   "language": "python",
   "name": "python3"
  },
  "language_info": {
   "codemirror_mode": {
    "name": "ipython",
    "version": 3
   },
   "file_extension": ".py",
   "mimetype": "text/x-python",
   "name": "python",
   "nbconvert_exporter": "python",
   "pygments_lexer": "ipython3",
   "version": "3.6.3"
  }
 },
 "nbformat": 4,
 "nbformat_minor": 2
}
