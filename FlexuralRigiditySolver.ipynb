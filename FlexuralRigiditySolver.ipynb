{
 "cells": [
  {
   "cell_type": "code",
   "execution_count": 1,
   "metadata": {},
   "outputs": [],
   "source": [
    "from sympy import *\n",
    "from math import pi\n",
    "import time"
   ]
  },
  {
   "cell_type": "code",
   "execution_count": 2,
   "metadata": {},
   "outputs": [],
   "source": [
    "start_time = time.time()\n",
    "\n",
    "P, L, EIo, x, gamma, a0, a1 = symbols('P, L, EIo, x, gamma, a0, a1')\n",
    "gamma = P*L**2/EIo\n",
    "\n",
    "b = 0\n",
    "Max = 30"
   ]
  },
  {
   "cell_type": "code",
   "execution_count": 3,
   "metadata": {},
   "outputs": [],
   "source": [
    "#power serie terms of P/EI(x)\n",
    "d = []\n",
    "for n in range(0,Max):\n",
    "    d.append(b**n*(P*x**n)/EIo)"
   ]
  },
  {
   "cell_type": "code",
   "execution_count": 4,
   "metadata": {},
   "outputs": [],
   "source": [
    "def summa(n):\n",
    "    result = 0\n",
    "    for i in range(0,n+1):\n",
    "        result += a[i] * d[n-i]\n",
    "    return result"
   ]
  },
  {
   "cell_type": "code",
   "execution_count": 5,
   "metadata": {},
   "outputs": [],
   "source": [
    "a = []\n",
    "a.append(a0)\n",
    "a.append(a1)\n",
    "for n in range(0,Max):\n",
    "    a.append(-summa(n)/((n+1)*(n+2)))\n",
    "    "
   ]
  },
  {
   "cell_type": "code",
   "execution_count": null,
   "metadata": {},
   "outputs": [],
   "source": [
    "def w(x):\n",
    "    result = 0\n",
    "    for k in range(0,Max):\n",
    "        result += a[k] * x**k\n",
    "    return result"
   ]
  },
  {
   "cell_type": "code",
   "execution_count": null,
   "metadata": {},
   "outputs": [],
   "source": [
    "roots = solveset(w(x).subs({(x,L),(a0,0)}),gamma,domain=S.Reals)\n",
    "print(roots.evalf())"
   ]
  },
  {
   "cell_type": "code",
   "execution_count": null,
   "metadata": {},
   "outputs": [],
   "source": []
  }
 ],
 "metadata": {
  "kernelspec": {
   "display_name": "Python 3",
   "language": "python",
   "name": "python3"
  },
  "language_info": {
   "codemirror_mode": {
    "name": "ipython",
    "version": 3
   },
   "file_extension": ".py",
   "mimetype": "text/x-python",
   "name": "python",
   "nbconvert_exporter": "python",
   "pygments_lexer": "ipython3",
   "version": "3.6.3"
  }
 },
 "nbformat": 4,
 "nbformat_minor": 2
}
